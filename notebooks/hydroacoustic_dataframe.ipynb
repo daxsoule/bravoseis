{
 "cells": [
  {
   "cell_type": "code",
   "execution_count": 1,
   "metadata": {},
   "outputs": [],
   "source": [
    "import pandas as pd\n",
    "import numpy as np\n",
    "from datetime import datetime\n",
    "from matplotlib import pyplot as plt\n",
    "%matplotlib inline\n",
    "plt.rcParams['figure.figsize'] = (14, 8)"
   ]
  },
  {
   "cell_type": "code",
   "execution_count": 2,
   "metadata": {},
   "outputs": [],
   "source": [
    "from IPython import display\n",
    "display.set_matplotlib_formats('retina')"
   ]
  },
  {
   "cell_type": "markdown",
   "metadata": {},
   "source": [
    "###### Columns: \n",
    "###### 1-14   Source Time (GMT)  YYYYDDDHHMMSSS \n",
    "###### 16-17   Number of recording hydrophones \n",
    "###### 18-32   ID's of recording hydrophones (in order received) \n",
    "###### 34-41   Epicenter Latitude  (Degrees, N=+, S=-) \n",
    "###### 42-50   Epicenter Longitude (Degrees, E=+, W=-) \n",
    "###### 51-57   Estimated error in latitude (degrees) \n",
    "###### 58-64   Estimated error in longitude (degrees) \n",
    "###### 65-71   Estimated error in source time (seconds) \n",
    "###### 72-79   Source Magnitude (dB re 1 micro-Pa @ 1m) "
   ]
  },
  {
   "cell_type": "code",
   "execution_count": 3,
   "metadata": {},
   "outputs": [],
   "source": [
    "col_names = ['source_time', 'h_count', 'h_id', 'ep_lat', 'ep_lon', 'er_lat', 'er_lon',\n",
    "        'er_time', 'mdb', 'mdb2','event' ,'notes'] "
   ]
  },
  {
   "cell_type": "code",
   "execution_count": 4,
   "metadata": {},
   "outputs": [
    {
     "name": "stdout",
     "output_type": "stream",
     "text": [
      " data_2019090.txt       data_2019226.txt       data_2019345.txt\n",
      "'data_2019091(1).txt'   data_2019230.txt       data_2019349.txt\n",
      " data_2019091.txt       data_2019233.txt       data_2019352.txt\n",
      " data_2019091a.txt      data_2019237.txt       data_2019356.txt\n",
      " data_2019146.txt       data_2019244.txt       data_2019359.txt\n",
      " data_2019149.txt       data_2019251.txt       data_2020005.txt\n",
      " data_2019153.txt       data_2019257.txt       data_2020012.txt\n",
      " data_2019156.txt       data_2019258.txt       data_2020013.txt\n",
      " data_2019160.txt       data_2019264.txt       data_2020014.txt\n",
      " data_2019163.txt       data_2019265.txt       data_2020015.txt\n",
      " data_2019167.txt       data_2019271.txt       data_2020019.txt\n",
      " data_2019168.txt      'data_2019300(1).txt'   data_2020022.txt\n",
      " data_2019170.txt       data_2019300.txt       data_2020026.txt\n",
      " data_2019174.txt       data_2019300a.txt      data_2020029.txt\n",
      " data_2019177.txt       data_2019301.txt       data_2020033.txt\n",
      " data_2019181.txt       data_2019302.txt       data_2020036.txt\n",
      " data_2019184.txt       data_2019303.txt       data_2020040.txt\n",
      " data_2019188.txt       data_2019307.txt       data_2020112.txt\n",
      " data_2019191.txt       data_2019308.txt       data_2020116.txt\n",
      " data_2019195.txt       data_2019310.txt       data_2020117.txt\n",
      " data_2019198.txt       data_2019314.txt       data_2020118.txt\n",
      " data_2019202.txt       data_2019317.txt       data_2020119.txt\n",
      " data_2019205.txt       data_2019321.txt       data_2020121.txt\n",
      " data_2019209.txt       data_2019324.txt       data_2020123.txt\n",
      " data_2019212.txt       data_2019328.txt       dax_2020012\n",
      " data_2019216.txt       data_2019331.txt       eqs.csv\n",
      " data_2019219.txt       data_2019335.txt       m2020012.txt\n",
      " data_2019223.txt       data_2019338.txt\n"
     ]
    }
   ],
   "source": [
    "!ls /home/jovyan/data/bravoseis_data/noaa_hydroacoustic/seasick_output"
   ]
  },
  {
   "cell_type": "code",
   "execution_count": 5,
   "metadata": {},
   "outputs": [
    {
     "name": "stdout",
     "output_type": "stream",
     "text": [
      "20190900104148  3             654 -61.848  -56.832  0.632  0.821 55.183  199.89 200.1 IQ\n",
      "20190900156148  3             654 -62.087  -57.118  0.229  0.244 17.163  197.90 198.1 IQ\n",
      "20190900207097  3             654 -61.960  -56.979  0.396  0.487 33.282  201.19 201.4 IQ\n",
      "20190900219500  3             654 -61.959  -56.979  0.397  0.488 33.314  202.00 202.2 IDK\n",
      "20190900238166  4            6542 -61.988  -56.977  0.219  0.291 18.710  207.18 207.4 IQ\n",
      "20190900244064  5           23156 -62.700  -59.520  0.012  0.030  0.747  198.14 198.4 IQ\n",
      "20190900255053  3             653 -62.027  -56.719  0.424  1.108 50.174  206.26 206.2 EQ\n",
      "20190900259438  4            6542 -62.253  -57.150  0.059  0.035  0.794  199.98 200.3 EQ\n",
      "20190900336421  3             453 -62.644  -57.246  0.256  0.927 36.403  198.17 198.3 IDK\n",
      "20190900351049  3             321 -62.519  -59.599  0.029  0.046  1.793  202.83 203.0 IDK\n"
     ]
    }
   ],
   "source": [
    "!head /home/jovyan/data/bravoseis_data/noaa_hydroacoustic/seasick_output/data_2019090.txt"
   ]
  },
  {
   "cell_type": "code",
   "execution_count": 9,
   "metadata": {},
   "outputs": [],
   "source": [
    "!cat /home/jovyan/data/bravoseis_data/noaa_hydroacoustic/seasick_output/data* > /home/jovyan/data/bravoseis_data/noaa_hydroacoustic/seasick_output/allDays.txt"
   ]
  },
  {
   "cell_type": "code",
   "execution_count": 11,
   "metadata": {},
   "outputs": [
    {
     "name": "stdout",
     "output_type": "stream",
     "text": [
      "20191210839472  3             642 -62.279  -56.893  0.073  1.539 51.215  218.69 218.9 EQ\n",
      "20191210846581  4            6542 -62.227  -57.133  0.003  0.002  0.128  213.16 213.5 EQ\n",
      "20191211433307  3             642 -62.310  -57.038  0.357  2.219 58.030  211.05 211.3 IQ\n",
      "20191230159244  4            6542 -61.968  -55.762  0.068  0.044  0.798  211.03 211.3 EQ_look\n",
      "20191230207595  4            5643 -62.343  -57.599  0.028  0.034  1.045  199.43 199.7 IQ_look\n",
      "20190910353210  3             654 -62.127  -57.346  0.123  0.034  6.578  198.17 198.4 EQ\n",
      "20191200326299  4            4536 -62.447  -58.006  0.015  0.060  0.960  200.67 201.0 EQ\n",
      "20191200340492  4            4536 -62.427  -58.032  0.014  0.051  0.909  204.44 204.7 EQ -Impulsive Small\n",
      "20191200340491  6          453621 -62.436  -58.019  0.010  0.033  0.608  207.50 207.8 EQ- RP, IS\n",
      "20191200344491  6          654321 -62.366  -57.204  0.018  0.034  0.908  208.92 209.3 EQ Impulsive, short duration\n"
     ]
    }
   ],
   "source": [
    "!tail /home/jovyan/data/bravoseis_data/noaa_hydroacoustic/seasick_output/allDays.txt"
   ]
  },
  {
   "cell_type": "code",
   "execution_count": 5,
   "metadata": {},
   "outputs": [
    {
     "name": "stdout",
     "output_type": "stream",
     "text": [
      "20200120016309,5,12345,-63.361,-59.691,0.041,0.019,2.878,198.46,198.8,EQ,SE of network\n",
      "20200120059580,3,543,-61.484,-54.521,0.310,0.924,39.226,200.92,201.2,EQ,East of network... bad locatoin.\n",
      "20200120118582,5,54321,-61.634,-52.338,0.326,1.277,49.447,218.23,218.6,EQ,Show BOB Located North and East -61.6 -52.4 ish How do I know if this is a good location?\n",
      "20200120136582,3,543,-62.246,-57.490,0.467,1.517,62.145,190.35,190.6,EQ,Possible rift East of Caldera\n",
      "20200120208050,3,543,-62.044,-58.270,0.140,0.043,9.413,188.79,189.0,EQ,under KGI\n",
      "20200120306364,5,65432,-61.622,-55.013,0.238,0.225,2.563,192.34,192.6,EQ,NE of KGI and Network. -61.6 -55\n",
      "20200120328281,4,2134,-62.742,-59.708,0.022,0.031,1.115,192.01,192.3,EQ,in network.Rift.\n",
      "20200120335051,3,123,-62.972,-64.307,0.147,0.013,0.450,200.18,200.4,EQ,West of KGI -62.6 -64.4 ish.\n",
      "20200120350317,3,653,-61.997,-56.574,0.772,2.267,99.732,200.93,201.2,EQ,Only visible on three channels. Not Confident. East of network.\n",
      "20200120431128,6,654321,-62.114,-57.025,0.256,0.456,23.976,194.66,194.9,EQ,Rift just NE of network. -62.1 -57.1\n"
     ]
    }
   ],
   "source": [
    "!sed 's/,/ /g' /home/jovyan/data/bravoseis_data/noaa_hydroacoustic/seasick_output/dax_2020012  > /home/jovyan/data/bravoseis_data/noaa_hydroacoustic/seasick_output/m2020012.txt\n",
    "!sed -i -e \"s/ /,/g\" /home/jovyan/data/bravoseis_data/noaa_hydroacoustic/seasick_output/m2020012.txt\n",
    "!sed -i -e \"s/,,,,,,,,,,,/,/g\" /home/jovyan/data/bravoseis_data/noaa_hydroacoustic/seasick_output/m2020012.txt\n",
    "!sed -i -e \"s/,,,,,,,,,,/,/g\" /home/jovyan/data/bravoseis_data/noaa_hydroacoustic/seasick_output/m2020012.txt\n",
    "!sed -i -e \"s/,,,/,/g\" /home/jovyan/data/bravoseis_data/noaa_hydroacoustic/seasick_output/m2020012.txt\n",
    "!sed -i -e \"s/,,/,/g\" /home/jovyan/data/bravoseis_data/noaa_hydroacoustic/seasick_output/m2020012.txt\n",
    "!sed -i -e 's/,/ /12g' /home/jovyan/data/bravoseis_data/noaa_hydroacoustic/seasick_output/m2020012.txt\n",
    "#!sed -i 's/^\\(.\\{4\\}\\)/\\1,/' /home/jovyan/data/bravoseis_data/noaa_hydroacoustic/seasick_output/dax_2020012.txt\n",
    "#!sed -i 's/^\\(.\\{8\\}\\)/\\1,/' /home/jovyan/data/bravoseis_data/noaa_hydroacoustic/seasick_output/dax_2020012.txt\n",
    "#!sed -i 's/^\\(.\\{11\\}\\)/\\1,/' /home/jovyan/data/bravoseis_data/noaa_hydroacoustic/seasick_output/dax_2020012.txt\n",
    "!head /home/jovyan/data/bravoseis_data/noaa_hydroacoustic/seasick_output/m2020012.txt"
   ]
  },
  {
   "cell_type": "code",
   "execution_count": 6,
   "metadata": {},
   "outputs": [
    {
     "data": {
      "text/html": [
       "<div>\n",
       "<style scoped>\n",
       "    .dataframe tbody tr th:only-of-type {\n",
       "        vertical-align: middle;\n",
       "    }\n",
       "\n",
       "    .dataframe tbody tr th {\n",
       "        vertical-align: top;\n",
       "    }\n",
       "\n",
       "    .dataframe thead th {\n",
       "        text-align: right;\n",
       "    }\n",
       "</style>\n",
       "<table border=\"1\" class=\"dataframe\">\n",
       "  <thead>\n",
       "    <tr style=\"text-align: right;\">\n",
       "      <th></th>\n",
       "      <th>source_time</th>\n",
       "      <th>h_count</th>\n",
       "      <th>h_id</th>\n",
       "      <th>ep_lat</th>\n",
       "      <th>ep_lon</th>\n",
       "      <th>er_lat</th>\n",
       "      <th>er_lon</th>\n",
       "      <th>er_time</th>\n",
       "      <th>mdb</th>\n",
       "      <th>mdb2</th>\n",
       "      <th>event</th>\n",
       "      <th>notes</th>\n",
       "    </tr>\n",
       "  </thead>\n",
       "  <tbody>\n",
       "    <tr>\n",
       "      <th>0</th>\n",
       "      <td>20200120059580</td>\n",
       "      <td>3.0</td>\n",
       "      <td>543</td>\n",
       "      <td>-61.484</td>\n",
       "      <td>-54.521</td>\n",
       "      <td>0.310</td>\n",
       "      <td>0.924</td>\n",
       "      <td>39.226</td>\n",
       "      <td>200.92</td>\n",
       "      <td>201.2</td>\n",
       "      <td>EQ</td>\n",
       "      <td>East of network... bad locatoin.</td>\n",
       "    </tr>\n",
       "    <tr>\n",
       "      <th>1</th>\n",
       "      <td>20200120118582</td>\n",
       "      <td>5.0</td>\n",
       "      <td>54321</td>\n",
       "      <td>-61.634</td>\n",
       "      <td>-52.338</td>\n",
       "      <td>0.326</td>\n",
       "      <td>1.277</td>\n",
       "      <td>49.447</td>\n",
       "      <td>218.23</td>\n",
       "      <td>218.6</td>\n",
       "      <td>EQ</td>\n",
       "      <td>Show BOB Located North and East -61.6 -52.4 is...</td>\n",
       "    </tr>\n",
       "  </tbody>\n",
       "</table>\n",
       "</div>"
      ],
      "text/plain": [
       "      source_time  h_count   h_id  ep_lat  ep_lon  er_lat  er_lon  er_time  \\\n",
       "0  20200120059580      3.0    543 -61.484 -54.521   0.310   0.924   39.226   \n",
       "1  20200120118582      5.0  54321 -61.634 -52.338   0.326   1.277   49.447   \n",
       "\n",
       "      mdb   mdb2 event                                              notes  \n",
       "0  200.92  201.2    EQ                   East of network... bad locatoin.  \n",
       "1  218.23  218.6    EQ  Show BOB Located North and East -61.6 -52.4 is...  "
      ]
     },
     "execution_count": 6,
     "metadata": {},
     "output_type": "execute_result"
    }
   ],
   "source": [
    "path = '/home/jovyan/data/bravoseis_data/noaa_hydroacoustic/seasick_output/m2020012.txt' # use your path\n",
    "\n",
    "eqs = pd.read_csv(path, sep=',', header=0, names=col_names,\n",
    "                  dtype = {'source_time':np.str,'h_count': np.float64,'eplat_deg': np.float64, 'eplon_deg': np.float64,\n",
    "                           'er_lat': np.float64,'er_lon': np.float64,\n",
    "                           'er_time': np.float64,'M_db': np.float64,\n",
    "                           'Mdb2': np.float64})\n",
    "#eqs['source_time'].iloc[0][0:4]\n",
    "eqs.head(2)"
   ]
  },
  {
   "cell_type": "code",
   "execution_count": 7,
   "metadata": {},
   "outputs": [
    {
     "data": {
      "text/html": [
       "<div>\n",
       "<style scoped>\n",
       "    .dataframe tbody tr th:only-of-type {\n",
       "        vertical-align: middle;\n",
       "    }\n",
       "\n",
       "    .dataframe tbody tr th {\n",
       "        vertical-align: top;\n",
       "    }\n",
       "\n",
       "    .dataframe thead th {\n",
       "        text-align: right;\n",
       "    }\n",
       "</style>\n",
       "<table border=\"1\" class=\"dataframe\">\n",
       "  <thead>\n",
       "    <tr style=\"text-align: right;\">\n",
       "      <th></th>\n",
       "      <th>h_count</th>\n",
       "      <th>h_id</th>\n",
       "      <th>ep_lat</th>\n",
       "      <th>ep_lon</th>\n",
       "      <th>er_lat</th>\n",
       "      <th>er_lon</th>\n",
       "      <th>er_time</th>\n",
       "      <th>mdb</th>\n",
       "      <th>mdb2</th>\n",
       "      <th>event</th>\n",
       "      <th>notes</th>\n",
       "    </tr>\n",
       "    <tr>\n",
       "      <th>time</th>\n",
       "      <th></th>\n",
       "      <th></th>\n",
       "      <th></th>\n",
       "      <th></th>\n",
       "      <th></th>\n",
       "      <th></th>\n",
       "      <th></th>\n",
       "      <th></th>\n",
       "      <th></th>\n",
       "      <th></th>\n",
       "      <th></th>\n",
       "    </tr>\n",
       "  </thead>\n",
       "  <tbody>\n",
       "    <tr>\n",
       "      <th>2020-01-12 00:59:58.000</th>\n",
       "      <td>3.0</td>\n",
       "      <td>543</td>\n",
       "      <td>-61.484</td>\n",
       "      <td>-54.521</td>\n",
       "      <td>0.310</td>\n",
       "      <td>0.924</td>\n",
       "      <td>39.226</td>\n",
       "      <td>200.92</td>\n",
       "      <td>201.2</td>\n",
       "      <td>EQ</td>\n",
       "      <td>East of network... bad locatoin.</td>\n",
       "    </tr>\n",
       "    <tr>\n",
       "      <th>2020-01-12 01:18:58.200</th>\n",
       "      <td>5.0</td>\n",
       "      <td>54321</td>\n",
       "      <td>-61.634</td>\n",
       "      <td>-52.338</td>\n",
       "      <td>0.326</td>\n",
       "      <td>1.277</td>\n",
       "      <td>49.447</td>\n",
       "      <td>218.23</td>\n",
       "      <td>218.6</td>\n",
       "      <td>EQ</td>\n",
       "      <td>Show BOB Located North and East -61.6 -52.4 is...</td>\n",
       "    </tr>\n",
       "    <tr>\n",
       "      <th>2020-01-12 01:36:58.200</th>\n",
       "      <td>3.0</td>\n",
       "      <td>543</td>\n",
       "      <td>-62.246</td>\n",
       "      <td>-57.490</td>\n",
       "      <td>0.467</td>\n",
       "      <td>1.517</td>\n",
       "      <td>62.145</td>\n",
       "      <td>190.35</td>\n",
       "      <td>190.6</td>\n",
       "      <td>EQ</td>\n",
       "      <td>Possible rift East of Caldera</td>\n",
       "    </tr>\n",
       "    <tr>\n",
       "      <th>2020-01-12 02:08:05.000</th>\n",
       "      <td>3.0</td>\n",
       "      <td>543</td>\n",
       "      <td>-62.044</td>\n",
       "      <td>-58.270</td>\n",
       "      <td>0.140</td>\n",
       "      <td>0.043</td>\n",
       "      <td>9.413</td>\n",
       "      <td>188.79</td>\n",
       "      <td>189.0</td>\n",
       "      <td>EQ</td>\n",
       "      <td>under KGI</td>\n",
       "    </tr>\n",
       "    <tr>\n",
       "      <th>2020-01-12 03:06:36.400</th>\n",
       "      <td>5.0</td>\n",
       "      <td>65432</td>\n",
       "      <td>-61.622</td>\n",
       "      <td>-55.013</td>\n",
       "      <td>0.238</td>\n",
       "      <td>0.225</td>\n",
       "      <td>2.563</td>\n",
       "      <td>192.34</td>\n",
       "      <td>192.6</td>\n",
       "      <td>EQ</td>\n",
       "      <td>NE of KGI and Network. -61.6 -55</td>\n",
       "    </tr>\n",
       "  </tbody>\n",
       "</table>\n",
       "</div>"
      ],
      "text/plain": [
       "                         h_count   h_id  ep_lat  ep_lon  er_lat  er_lon  \\\n",
       "time                                                                      \n",
       "2020-01-12 00:59:58.000      3.0    543 -61.484 -54.521   0.310   0.924   \n",
       "2020-01-12 01:18:58.200      5.0  54321 -61.634 -52.338   0.326   1.277   \n",
       "2020-01-12 01:36:58.200      3.0    543 -62.246 -57.490   0.467   1.517   \n",
       "2020-01-12 02:08:05.000      3.0    543 -62.044 -58.270   0.140   0.043   \n",
       "2020-01-12 03:06:36.400      5.0  65432 -61.622 -55.013   0.238   0.225   \n",
       "\n",
       "                         er_time     mdb   mdb2 event  \\\n",
       "time                                                    \n",
       "2020-01-12 00:59:58.000   39.226  200.92  201.2    EQ   \n",
       "2020-01-12 01:18:58.200   49.447  218.23  218.6    EQ   \n",
       "2020-01-12 01:36:58.200   62.145  190.35  190.6    EQ   \n",
       "2020-01-12 02:08:05.000    9.413  188.79  189.0    EQ   \n",
       "2020-01-12 03:06:36.400    2.563  192.34  192.6    EQ   \n",
       "\n",
       "                                                                     notes  \n",
       "time                                                                        \n",
       "2020-01-12 00:59:58.000                   East of network... bad locatoin.  \n",
       "2020-01-12 01:18:58.200  Show BOB Located North and East -61.6 -52.4 is...  \n",
       "2020-01-12 01:36:58.200                      Possible rift East of Caldera  \n",
       "2020-01-12 02:08:05.000                                          under KGI  \n",
       "2020-01-12 03:06:36.400                   NE of KGI and Network. -61.6 -55  "
      ]
     },
     "execution_count": 7,
     "metadata": {},
     "output_type": "execute_result"
    }
   ],
   "source": [
    "eqs['time'] = pd.to_datetime(eqs['source_time'], format='%Y%j%H%M%S%f')\n",
    "eqs.set_index('time', inplace=True, verify_integrity= True)\n",
    "eqs.drop('source_time', axis=1, inplace=True)\n",
    "eqs.head()"
   ]
  },
  {
   "cell_type": "code",
   "execution_count": 8,
   "metadata": {},
   "outputs": [],
   "source": [
    "path = '/home/jovyan/data/bravoseis_data/noaa_hydroacoustic/seasick_output/eqs.csv'\n",
    "\n",
    "eqs.to_csv(path, sep=',', na_rep='',\n",
    "                 float_format=None, columns=None, header=True,\n",
    "                 index=True, index_label=None, mode='w', encoding=None,\n",
    "                 compression='infer', quoting=None, quotechar='\"',\n",
    "                 line_terminator=None, chunksize=None, date_format=None,\n",
    "                 doublequote=True, escapechar=None, decimal='.',\n",
    "                 errors='strict')"
   ]
  },
  {
   "cell_type": "code",
   "execution_count": 3,
   "metadata": {},
   "outputs": [
    {
     "name": "stdout",
     "output_type": "stream",
     "text": [
      "Bransfield15m.txt\t\t       SADO\t\t   seismic\n",
      "MAGNETOMETRO\t\t\t       gmt_files.zip\n",
      "MAGNETOMETRO-20191001T202836Z-001.zip  noaa_hydroacoustic\n"
     ]
    }
   ],
   "source": [
    "!ls /home/jovyan/data/bravoseis_data/"
   ]
  },
  {
   "cell_type": "code",
   "execution_count": null,
   "metadata": {},
   "outputs": [],
   "source": []
  }
 ],
 "metadata": {
  "kernelspec": {
   "display_name": "Python [conda env:notebook] *",
   "language": "python",
   "name": "conda-env-notebook-py"
  },
  "language_info": {
   "codemirror_mode": {
    "name": "ipython",
    "version": 3
   },
   "file_extension": ".py",
   "mimetype": "text/x-python",
   "name": "python",
   "nbconvert_exporter": "python",
   "pygments_lexer": "ipython3",
   "version": "3.8.6"
  }
 },
 "nbformat": 4,
 "nbformat_minor": 4
}
